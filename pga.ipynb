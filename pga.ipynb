{
 "metadata": {
  "language_info": {
   "codemirror_mode": {
    "name": "ipython",
    "version": 3
   },
   "file_extension": ".py",
   "mimetype": "text/x-python",
   "name": "python",
   "nbconvert_exporter": "python",
   "pygments_lexer": "ipython3",
   "version": "3.7.0-final"
  },
  "orig_nbformat": 2,
  "kernelspec": {
   "name": "python3",
   "display_name": "Python 3",
   "language": "python"
  }
 },
 "nbformat": 4,
 "nbformat_minor": 2,
 "cells": [
  {
   "cell_type": "code",
   "execution_count": 197,
   "metadata": {},
   "outputs": [],
   "source": [
    "import numpy as np\n",
    "import os\n",
    "\n",
    "data = []\n",
    "for line in open('G:/subject2/accel/data/0.02/write99.txt','r'): #设置文件对象并读取每一行文件\n",
    "    data.append(line[:-1])               #将每一行文件加入到list中\n"
   ]
  },
  {
   "cell_type": "code",
   "execution_count": 199,
   "metadata": {},
   "outputs": [],
   "source": [
    "os.chdir(r'G:\\subject2\\accel\\data\\vgli\\99')\n",
    "for i in range(np.size(data)):\n",
    "    a = np.loadtxt('{}'.format(data[i]))\n",
    "    a = a / 1000\n",
    "    b = np.abs(a)\n",
    "    d=int(np.argwhere(b==np.max(b)))\n",
    "    g = np.zeros(1500)\n",
    "    #g的后半段\n",
    "    if (len(a) - d) >= 750:\n",
    "        for j in range(750):\n",
    "            g[750+j] = a[d+j]\n",
    "    else:\n",
    "        for j in range(len(a)-d):\n",
    "            g[750+j] = a[d+j]\n",
    "    #g的后半段\n",
    "    if d >= 750:\n",
    "        for k in range(750):\n",
    "            g[0+k] = a[d-750+k]\n",
    "    else:\n",
    "        for k in range(d):\n",
    "            g[750-d+k] = a[0+k]\n",
    " \n",
    "    np.savetxt('G:/subject2/accel/data/pga/99/'+'{}'.format(data[i]),g)"
   ]
  },
  {
   "cell_type": "code",
   "execution_count": null,
   "metadata": {},
   "outputs": [],
   "source": []
  }
 ]
}